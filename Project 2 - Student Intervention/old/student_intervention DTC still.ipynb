{
 "cells": [
  {
   "cell_type": "markdown",
   "metadata": {},
   "source": [
    "# Machine Learning Engineer Nanodegree\n",
    "## Supervised Learning\n",
    "## Project 2: Building a Student Intervention System"
   ]
  },
  {
   "cell_type": "markdown",
   "metadata": {},
   "source": [
    "Welcome to the second project of the Machine Learning Engineer Nanodegree! In this notebook, some template code has already been provided for you, and it will be your job to implement the additional functionality necessary to successfully complete this project. Sections that begin with **'Implementation'** in the header indicate that the following block of code will require additional functionality which you must provide. Instructions will be provided for each section and the specifics of the implementation are marked in the code block with a `'TODO'` statement. Please be sure to read the instructions carefully!\n",
    "\n",
    "In addition to implementing code, there will be questions that you must answer which relate to the project and your implementation. Each section where you will answer a question is preceded by a **'Question X'** header. Carefully read each question and provide thorough answers in the following text boxes that begin with **'Answer:'**. Your project submission will be evaluated based on your answers to each of the questions and the implementation you provide.  \n",
    "\n",
    ">**Note:** Code and Markdown cells can be executed using the **Shift + Enter** keyboard shortcut. In addition, Markdown cells can be edited by typically double-clicking the cell to enter edit mode."
   ]
  },
  {
   "cell_type": "markdown",
   "metadata": {},
   "source": [
    "### Question 1 - Classification vs. Regression\n",
    "*Your goal for this project is to identify students who might need early intervention before they fail to graduate. Which type of supervised learning problem is this, classification or regression? Why?*"
   ]
  },
  {
   "cell_type": "markdown",
   "metadata": {},
   "source": [
    "**Answer: **\n",
    "\n",
    "This is a **classification** problem since the output is binary (i.e. discrete): students who need early intervention vs. students who do not. Regression problems have continuous output (function values for example)."
   ]
  },
  {
   "cell_type": "markdown",
   "metadata": {},
   "source": [
    "## Exploring the Data\n",
    "Run the code cell below to load necessary Python libraries and load the student data. Note that the last column from this dataset, `'passed'`, will be our target label (whether the student graduated or didn't graduate). All other columns are features about each student."
   ]
  },
  {
   "cell_type": "code",
   "execution_count": 235,
   "metadata": {
    "collapsed": false
   },
   "outputs": [
    {
     "name": "stdout",
     "output_type": "stream",
     "text": [
      "Student data read successfully!\n",
      "  school sex  age address famsize Pstatus  Medu  Fedu     Mjob      Fjob  \\\n",
      "0     GP   F   18       U     GT3       A     4     4  at_home   teacher   \n",
      "1     GP   F   17       U     GT3       T     1     1  at_home     other   \n",
      "2     GP   F   15       U     LE3       T     1     1  at_home     other   \n",
      "3     GP   F   15       U     GT3       T     4     2   health  services   \n",
      "4     GP   F   16       U     GT3       T     3     3    other     other   \n",
      "\n",
      "   ...   internet romantic  famrel  freetime  goout Dalc Walc health absences  \\\n",
      "0  ...         no       no       4         3      4    1    1      3        6   \n",
      "1  ...        yes       no       5         3      3    1    1      3        4   \n",
      "2  ...        yes       no       4         3      2    2    3      3       10   \n",
      "3  ...        yes      yes       3         2      2    1    1      5        2   \n",
      "4  ...         no       no       4         3      2    1    2      5        4   \n",
      "\n",
      "  passed  \n",
      "0     no  \n",
      "1     no  \n",
      "2    yes  \n",
      "3    yes  \n",
      "4    yes  \n",
      "\n",
      "[5 rows x 31 columns]\n"
     ]
    }
   ],
   "source": [
    "# Import libraries\n",
    "import numpy as np\n",
    "import pandas as pd\n",
    "from time import time\n",
    "from sklearn.metrics import f1_score\n",
    "\n",
    "# Read student data\n",
    "student_data = pd.read_csv(\"student-data.csv\")\n",
    "print \"Student data read successfully!\"\n",
    "print student_data.head()"
   ]
  },
  {
   "cell_type": "markdown",
   "metadata": {},
   "source": [
    "### Implementation: Data Exploration\n",
    "Let's begin by investigating the dataset to determine how many students we have information on, and learn about the graduation rate among these students. In the code cell below, you will need to compute the following:\n",
    "- The total number of students, `n_students`.\n",
    "- The total number of features for each student, `n_features`.\n",
    "- The number of those students who passed, `n_passed`.\n",
    "- The number of those students who failed, `n_failed`.\n",
    "- The graduation rate of the class, `grad_rate`, in percent (%).\n"
   ]
  },
  {
   "cell_type": "code",
   "execution_count": 236,
   "metadata": {
    "collapsed": false
   },
   "outputs": [
    {
     "name": "stdout",
     "output_type": "stream",
     "text": [
      "Total number of students: 395\n",
      "Number of features: 30\n",
      "Number of students who passed: 265\n",
      "Number of students who failed: 130\n",
      "Graduation rate of the class: 67.09%\n"
     ]
    }
   ],
   "source": [
    "# TODO: Calculate number of students\n",
    "n_students = student_data.shape[0]\n",
    "\n",
    "# TODO: Calculate number of features\n",
    "# Attention: Number of features is number of columns minus one because of the target column \"passed\"\n",
    "n_features = len(student_data.columns)-1\n",
    "\n",
    "# TODO: Calculate passing students\n",
    "n_passed = student_data[student_data['passed']==\"yes\"].shape[0]\n",
    "\n",
    "# TODO: Calculate failing students\n",
    "n_failed = n_students - n_passed\n",
    "# alternatively:\n",
    "# n_failed = student_data[student_data['passed']==\"no\"].size\n",
    "\n",
    "# TODO: Calculate graduation rate\n",
    "grad_rate = 100.0*n_passed/n_students\n",
    "\n",
    "# Print the results\n",
    "print \"Total number of students: {}\".format(n_students)\n",
    "print \"Number of features: {}\".format(n_features)\n",
    "print \"Number of students who passed: {}\".format(n_passed)\n",
    "print \"Number of students who failed: {}\".format(n_failed)\n",
    "print \"Graduation rate of the class: {:.2f}%\".format(grad_rate)"
   ]
  },
  {
   "cell_type": "markdown",
   "metadata": {},
   "source": [
    "## Preparing the Data\n",
    "In this section, we will prepare the data for modeling, training and testing.\n",
    "\n",
    "### Identify feature and target columns\n",
    "It is often the case that the data you obtain contains non-numeric features. This can be a problem, as most machine learning algorithms expect numeric data to perform computations with.\n",
    "\n",
    "Run the code cell below to separate the student data into feature and target columns to see if any features are non-numeric."
   ]
  },
  {
   "cell_type": "code",
   "execution_count": 237,
   "metadata": {
    "collapsed": false
   },
   "outputs": [
    {
     "name": "stdout",
     "output_type": "stream",
     "text": [
      "Feature columns:\n",
      "['school', 'sex', 'age', 'address', 'famsize', 'Pstatus', 'Medu', 'Fedu', 'Mjob', 'Fjob', 'reason', 'guardian', 'traveltime', 'studytime', 'failures', 'schoolsup', 'famsup', 'paid', 'activities', 'nursery', 'higher', 'internet', 'romantic', 'famrel', 'freetime', 'goout', 'Dalc', 'Walc', 'health', 'absences']\n",
      "\n",
      "Target column: passed\n",
      "\n",
      "Feature values:\n",
      "  school sex  age address famsize Pstatus  Medu  Fedu     Mjob      Fjob  \\\n",
      "0     GP   F   18       U     GT3       A     4     4  at_home   teacher   \n",
      "1     GP   F   17       U     GT3       T     1     1  at_home     other   \n",
      "2     GP   F   15       U     LE3       T     1     1  at_home     other   \n",
      "3     GP   F   15       U     GT3       T     4     2   health  services   \n",
      "4     GP   F   16       U     GT3       T     3     3    other     other   \n",
      "\n",
      "    ...    higher internet  romantic  famrel  freetime goout Dalc Walc health  \\\n",
      "0   ...       yes       no        no       4         3     4    1    1      3   \n",
      "1   ...       yes      yes        no       5         3     3    1    1      3   \n",
      "2   ...       yes      yes        no       4         3     2    2    3      3   \n",
      "3   ...       yes      yes       yes       3         2     2    1    1      5   \n",
      "4   ...       yes       no        no       4         3     2    1    2      5   \n",
      "\n",
      "  absences  \n",
      "0        6  \n",
      "1        4  \n",
      "2       10  \n",
      "3        2  \n",
      "4        4  \n",
      "\n",
      "[5 rows x 30 columns]\n"
     ]
    }
   ],
   "source": [
    "# Extract feature columns\n",
    "feature_cols = list(student_data.columns[:-1])\n",
    "\n",
    "# Extract target column 'passed'\n",
    "target_col = student_data.columns[-1] \n",
    "\n",
    "# Show the list of columns\n",
    "print \"Feature columns:\\n{}\".format(feature_cols)\n",
    "print \"\\nTarget column: {}\".format(target_col)\n",
    "\n",
    "# Separate the data into feature data and target data (X_all and y_all, respectively)\n",
    "X_all = student_data[feature_cols]\n",
    "y_all = student_data[target_col]\n",
    "\n",
    "#d = {'yes': 1, 'no': 0}\n",
    "#y_all2 = y_all.map(d)\n",
    "\n",
    "# Show the feature information by printing the first five rows\n",
    "print \"\\nFeature values:\"\n",
    "print X_all.head()"
   ]
  },
  {
   "cell_type": "markdown",
   "metadata": {},
   "source": [
    "### Preprocess Feature Columns\n",
    "\n",
    "As you can see, there are several non-numeric columns that need to be converted! Many of them are simply `yes`/`no`, e.g. `internet`. These can be reasonably converted into `1`/`0` (binary) values.\n",
    "\n",
    "Other columns, like `Mjob` and `Fjob`, have more than two values, and are known as _categorical variables_. The recommended way to handle such a column is to create as many columns as possible values (e.g. `Fjob_teacher`, `Fjob_other`, `Fjob_services`, etc.), and assign a `1` to one of them and `0` to all others.\n",
    "\n",
    "These generated columns are sometimes called _dummy variables_, and we will use the [`pandas.get_dummies()`](http://pandas.pydata.org/pandas-docs/stable/generated/pandas.get_dummies.html?highlight=get_dummies#pandas.get_dummies) function to perform this transformation. Run the code cell below to perform the preprocessing routine discussed in this section."
   ]
  },
  {
   "cell_type": "code",
   "execution_count": 238,
   "metadata": {
    "collapsed": false
   },
   "outputs": [
    {
     "name": "stdout",
     "output_type": "stream",
     "text": [
      "Processed feature columns (48 total features):\n",
      "['school_GP', 'school_MS', 'sex_F', 'sex_M', 'age', 'address_R', 'address_U', 'famsize_GT3', 'famsize_LE3', 'Pstatus_A', 'Pstatus_T', 'Medu', 'Fedu', 'Mjob_at_home', 'Mjob_health', 'Mjob_other', 'Mjob_services', 'Mjob_teacher', 'Fjob_at_home', 'Fjob_health', 'Fjob_other', 'Fjob_services', 'Fjob_teacher', 'reason_course', 'reason_home', 'reason_other', 'reason_reputation', 'guardian_father', 'guardian_mother', 'guardian_other', 'traveltime', 'studytime', 'failures', 'schoolsup', 'famsup', 'paid', 'activities', 'nursery', 'higher', 'internet', 'romantic', 'famrel', 'freetime', 'goout', 'Dalc', 'Walc', 'health', 'absences']\n"
     ]
    }
   ],
   "source": [
    "def preprocess_features(X):\n",
    "    ''' Preprocesses the student data and converts non-numeric binary variables into\n",
    "        binary (0/1) variables. Converts categorical variables into dummy variables. '''\n",
    "    \n",
    "    # Initialize new output DataFrame\n",
    "    output = pd.DataFrame(index = X.index)\n",
    "\n",
    "    # Investigate each feature column for the data\n",
    "    for col, col_data in X.iteritems():\n",
    "        \n",
    "        # If data type is non-numeric, replace all yes/no values with 1/0\n",
    "        if col_data.dtype == object:\n",
    "            col_data = col_data.replace(['yes', 'no'], [1, 0])\n",
    "\n",
    "        # If data type is categorical, convert to dummy variables\n",
    "        if col_data.dtype == object:\n",
    "            # Example: 'school' => 'school_GP' and 'school_MS'\n",
    "            col_data = pd.get_dummies(col_data, prefix = col)  \n",
    "        \n",
    "        # Collect the revised columns\n",
    "        output = output.join(col_data)\n",
    "    \n",
    "    return output\n",
    "\n",
    "X_all = preprocess_features(X_all)\n",
    "print \"Processed feature columns ({} total features):\\n{}\".format(len(X_all.columns), list(X_all.columns))"
   ]
  },
  {
   "cell_type": "markdown",
   "metadata": {},
   "source": [
    "### Implementation: Training and Testing Data Split\n",
    "So far, we have converted all _categorical_ features into numeric values. For the next step, we split the data (both features and corresponding labels) into training and test sets. In the following code cell below, you will need to implement the following:\n",
    "- Randomly shuffle and split the data (`X_all`, `y_all`) into training and testing subsets.\n",
    "  - Use 300 training points (approximately 75%) and 95 testing points (approximately 25%).\n",
    "  - Set a `random_state` for the function(s) you use, if provided.\n",
    "  - Store the results in `X_train`, `X_test`, `y_train`, and `y_test`."
   ]
  },
  {
   "cell_type": "code",
   "execution_count": 239,
   "metadata": {
    "collapsed": false
   },
   "outputs": [
    {
     "name": "stdout",
     "output_type": "stream",
     "text": [
      "Training set has 300 samples.\n",
      "Testing set has 95 samples.\n"
     ]
    }
   ],
   "source": [
    "# TODO: Import any additional functionality you may need here\n",
    "from sklearn.cross_validation import train_test_split\n",
    "\n",
    "# TODO: Set the number of training points\n",
    "num_train = 300\n",
    "\n",
    "# Set the number of testing points\n",
    "num_test = X_all.shape[0] - num_train\n",
    "\n",
    "# TODO: Shuffle and split the dataset into the number of training and testing points above\n",
    "X_train, X_test, y_train, y_test = train_test_split(X_all,y_all, train_size = num_train, random_state=15)\n",
    "\n",
    "# Show the results of the split\n",
    "print \"Training set has {} samples.\".format(X_train.shape[0])\n",
    "print \"Testing set has {} samples.\".format(X_test.shape[0])"
   ]
  },
  {
   "cell_type": "markdown",
   "metadata": {},
   "source": [
    "## Training and Evaluating Models\n",
    "In this section, you will choose 3 supervised learning models that are appropriate for this problem and available in `scikit-learn`. You will first discuss the reasoning behind choosing these three models by considering what you know about the data and each model's strengths and weaknesses. You will then fit the model to varying sizes of training data (100 data points, 200 data points, and 300 data points) and measure the F<sub>1</sub> score. You will need to produce three tables (one for each model) that shows the training set size, training time, prediction time, F<sub>1</sub> score on the training set, and F<sub>1</sub> score on the testing set.\n",
    "\n",
    "**The following supervised learning models are currently available in** [`scikit-learn`](http://scikit-learn.org/stable/supervised_learning.html) **that you may choose from:**\n",
    "- Gaussian Naive Bayes (GaussianNB)\n",
    "- Decision Trees\n",
    "- Ensemble Methods (Bagging, AdaBoost, Random Forest, Gradient Boosting)\n",
    "- K-Nearest Neighbors (KNeighbors)\n",
    "- Stochastic Gradient Descent (SGDC)\n",
    "- Support Vector Machines (SVM)\n",
    "- Logistic Regression"
   ]
  },
  {
   "cell_type": "markdown",
   "metadata": {},
   "source": [
    "### Question 2 - Model Application\n",
    "*List three supervised learning models that are appropriate for this problem. For each model chosen*\n",
    "- Describe one real-world application in industry where the model can be applied. *(You may need to do a small bit of research for this — give references!)* \n",
    "- What are the strengths of the model; when does it perform well? \n",
    "- What are the weaknesses of the model; when does it perform poorly?\n",
    "- What makes this model a good candidate for the problem, given what you know about the data?"
   ]
  },
  {
   "cell_type": "markdown",
   "metadata": {},
   "source": [
    "**Answer: **\n",
    "I will look at the algorithms: Decision Tree, Support Vector Machine and k-Nearest Neighbor\n",
    "* **Decision Trees**\n",
    "   - **Real world application**\n",
    "      - Decision trees can for example be used in credit risk analysis where a number of data points on an applicant are used to decide whether to grant a loan or not (see e.g. http://www.ibm.com/support/knowledgecenter/SSLVMB_22.0.0/com.ibm.spss.statistics.cs/spss/tutorials/trees_credit_intro1.htm, http://dni-institute.in/blogs/decision-tree-steps-to-build-predictive-model/). Data points to be used include: loan amount, loan duration, applicant's salary, age, loan history/number of previous loans, other outstanding debt, marital status, profession or education level etc.\n",
    "      \n",
    "   - **Strengths:**\n",
    "      - Decision trees can work if the data is a mix of categorical and continuous features (only one dimension is looked at at a given step. Decision tree do not use geometric ideas like for example SVMs (where hyperplanes in features space are used to separate data)\n",
    "      - Decision trees are easy to interpret\n",
    "      - Decision trees are fast to train and to evaluate on testing data\n",
    "      - Decision trees work on binary and multi-output data\n",
    "      - There is no pre-processing (e.g. data scaling) required (since dimensions are not \"mixed\")\n",
    "   - **Weaknesses:**\n",
    "      - Decision trees easily show signs of overfitting (if not told otherwise they will become very granular on the training data, which may result in low accuracy on testing data)\n",
    "      - Decision trees are also sometimes sensitive on the type or content of input data (the algorithm is relatively brute force)\n",
    "      - In some problems (e.g. with purely continuous input data) the simple cartesian product logic (dealing with one dimension at a time) could result in too complex trees where an SVM or linear model could work much better\n",
    "   - **Why is this a good model?:**\n",
    "      - Decision trees could work well here because of the mixture of continuous and categorical input data\n",
    "      - Also decision trees could be accurate enough for the admittedly important question at hand (as long as overfitting is prevented)\n",
    "   \n",
    "   \n",
    "* **Support Vector Machines**\n",
    "   - **Real world application**:\n",
    "      - SVMs are used in biosciences, for example for classification/structure prediction of proteins (https://noble.gs.washington.edu/papers/noble_support.pdf) or genes through image analysis. SVMs work here because of high dimensionality of the data (images) as well as noise present in the images (SVMs are quite robust to noise). \n",
    "      - Other applications include: hand-written text classification (e.g. http://file.scirp.org/pdf/ENG_2013072909321491.pdf)\n",
    "\n",
    "   - **Strengths:**\n",
    "      - SVMs work well in higher dimensional settings (many features) or with complex data\n",
    "      - SVMs are flexible enough to deal with non-linearly separable or even very complex data due to the use of an error term or possible choice of different kernels\n",
    "      - On a similar note, SVMs are robust to noise, because of the error term and the idea of maximizing margins\n",
    "      \n",
    "   - **Weaknesses:**\n",
    "      - SVMs can be expensive to train (see also our example below) - especially for higher dimensional problems\n",
    "      - May require rescaled data due to the geometric nature of SVM (hyperplanes) - for example if we have a mixture of continuous and categorical input data (otherwise there might also be numerical stability issues)\n",
    "   - **Why is this a good model?:**\n",
    "      - SVM could work well in this case because we do not have a large amount of training data (also in comparison with the number of features\n",
    "      - Also, performance is not so much of an issue here because we are not dealing with a real-time application or too many testing data points\n",
    "\n",
    "\n",
    "* **k-Nearest Neighbor**\n",
    "   - **Real world application**\n",
    "   An interesting application of KNN that I would is fault detection or isolation in semiconductors. Semi-conductor functionality relies on the produced material to be an extremely regular lattice of atoms. Some recent studies (http://fumblog.um.ac.ir/gallery/170/Fault%20Detection%20Using%20the%20k-Nearest%20Neighbor%20Rule%20for%20Semiconductor%20Manufacturing%20Processes.pdf) suggest using KNN to determine whether a new batch of semiconductors is faulty or not. Features used here include some aspects of the production process as well as certain measurements of the batch. By understanding the processes and results of semiconductor production better one can devise ways to make production more reliable and reduce scrap etc.\n",
    "   - Another applications lies in text mining (e.g. spam detection). Generelly I would consider it a good benchmark model when looking for a fitting algorithm for a given application.\n",
    "\n",
    "   - **Strengths:**\n",
    "      - KNN is very simple to interpret or explain\n",
    "      - Due to the simplicity of the idea KNN is quite flexible (multi-purpose)\n",
    "      - Training KNN is not very expensive\n",
    "      - KNN can be used for classification but also regression\n",
    "   - **Weaknesses:**\n",
    "      - Running on new/testing data can be more expensive than with other algorithms\n",
    "      - KNN has difficulties in higher dimensions due to the curse of dimensionality: a lot of training points are required to have sufficient coverage of space to find sufficiently close training points for testing data\n",
    "   - **Why is this a good model?:**\n",
    "      - I would expect KNN to do well here because the feature space is not too high dimensional or too diverse\n",
    "      - Also, we do not need to evaluate the model in real time or for too many training points (only several hundred students)\n",
    "\n",
    "\n",
    "*Further sources for the advantages and disadvantages analysis:*\n",
    "- http://scikit-learn.org/stable/modules/tree.html\n",
    "- http://scikit-learn.org/stable/modules/svm.html\n",
    "- http://scikit-learn.org/stable/modules/neighbors.html\n",
    "- https://www.quora.com/What-are-the-advantages-of-different-classification-algorithm\n",
    "- http://www.lauradhamilton.com/machine-learning-algorithm-cheat-sheet"
   ]
  },
  {
   "cell_type": "markdown",
   "metadata": {},
   "source": [
    "### Setup\n",
    "Run the code cell below to initialize three helper functions which you can use for training and testing the three supervised learning models you've chosen above. The functions are as follows:\n",
    "- `train_classifier` - takes as input a classifier and training data and fits the classifier to the data.\n",
    "- `predict_labels` - takes as input a fit classifier, features, and a target labeling and makes predictions using the F<sub>1</sub> score.\n",
    "- `train_predict` - takes as input a classifier, and the training and testing data, and performs `train_clasifier` and `predict_labels`.\n",
    " - This function will report the F<sub>1</sub> score for both the training and testing data separately."
   ]
  },
  {
   "cell_type": "code",
   "execution_count": 240,
   "metadata": {
    "collapsed": false
   },
   "outputs": [],
   "source": [
    "def train_classifier(clf, X_train, y_train):\n",
    "    ''' Fits a classifier to the training data. '''\n",
    "    \n",
    "    # Start the clock, train the classifier, then stop the clock\n",
    "    start = time()\n",
    "    clf.fit(X_train, y_train)\n",
    "    end = time()\n",
    "    \n",
    "    # Print the results\n",
    "    print \"Trained model in {:.4f} seconds\".format(end - start)\n",
    "\n",
    "    \n",
    "def predict_labels(clf, features, target):\n",
    "    ''' Makes predictions using a fit classifier based on F1 score. '''\n",
    "    \n",
    "    # Start the clock, make predictions, then stop the clock\n",
    "    start = time()\n",
    "    y_pred = clf.predict(features)\n",
    "    end = time()\n",
    "    \n",
    "    # Print and return results\n",
    "    print \"Made predictions in {:.4f} seconds.\".format(end - start)\n",
    "    return f1_score(target.values, y_pred, pos_label='yes')\n",
    "\n",
    "\n",
    "def train_predict(clf, X_train, y_train, X_test, y_test):\n",
    "    ''' Train and predict using a classifer based on F1 score. '''\n",
    "    \n",
    "    # Indicate the classifier and the training set size\n",
    "    print \"Training a {} using a training set size of {}. . .\".format(clf.__class__.__name__, len(X_train))\n",
    "    \n",
    "    # Train the classifier\n",
    "    train_classifier(clf, X_train, y_train)\n",
    "    \n",
    "    # Print the results of prediction for both training and testing\n",
    "    print \"F1 score for training set: {:.4f}.\".format(predict_labels(clf, X_train, y_train))\n",
    "    print \"F1 score for test set: {:.4f}.\\n\".format(predict_labels(clf, X_test, y_test))"
   ]
  },
  {
   "cell_type": "markdown",
   "metadata": {},
   "source": [
    "### Implementation: Model Performance Metrics\n",
    "With the predefined functions above, you will now import the three supervised learning models of your choice and run the `train_predict` function for each one. Remember that you will need to train and predict on each classifier for three different training set sizes: 100, 200, and 300. Hence, you should expect to have 9 different outputs below — 3 for each model using the varying training set sizes. In the following code cell, you will need to implement the following:\n",
    "- Import the three supervised learning models you've discussed in the previous section.\n",
    "- Initialize the three models and store them in `clf_A`, `clf_B`, and `clf_C`.\n",
    " - Use a `random_state` for each model you use, if provided.\n",
    " - **Note:** Use the default settings for each model — you will tune one specific model in a later section.\n",
    "- Create the different training set sizes to be used to train each model.\n",
    " - *Do not reshuffle and resplit the data! The new training points should be drawn from `X_train` and `y_train`.*\n",
    "- Fit each model with each training set size and make predictions on the test set (9 in total).  \n",
    "**Note:** Three tables are provided after the following code cell which can be used to store your results."
   ]
  },
  {
   "cell_type": "code",
   "execution_count": 244,
   "metadata": {
    "collapsed": false
   },
   "outputs": [
    {
     "name": "stdout",
     "output_type": "stream",
     "text": [
      "Training a DecisionTreeClassifier using a training set size of 100. . .\n",
      "Trained model in 0.0013 seconds\n",
      "Made predictions in 0.0004 seconds.\n",
      "F1 score for training set: 0.8361.\n",
      "Made predictions in 0.0003 seconds.\n",
      "F1 score for test set: 0.5926.\n",
      "\n",
      "Training a DecisionTreeClassifier using a training set size of 200. . .\n",
      "Trained model in 0.0009 seconds\n",
      "Made predictions in 0.0002 seconds.\n",
      "F1 score for training set: 0.8571.\n",
      "Made predictions in 0.0002 seconds.\n",
      "F1 score for test set: 0.7917.\n",
      "\n",
      "Training a DecisionTreeClassifier using a training set size of 300. . .\n",
      "Trained model in 0.0012 seconds\n",
      "Made predictions in 0.0003 seconds.\n",
      "F1 score for training set: 0.8392.\n",
      "Made predictions in 0.0003 seconds.\n",
      "F1 score for test set: 0.7971.\n",
      "\n",
      "Training a SVC using a training set size of 100. . .\n",
      "Trained model in 0.0013 seconds\n",
      "Made predictions in 0.0008 seconds.\n",
      "F1 score for training set: 0.8904.\n",
      "Made predictions in 0.0006 seconds.\n",
      "F1 score for test set: 0.7826.\n",
      "\n",
      "Training a SVC using a training set size of 200. . .\n",
      "Trained model in 0.0027 seconds\n",
      "Made predictions in 0.0020 seconds.\n",
      "F1 score for training set: 0.8851.\n",
      "Made predictions in 0.0010 seconds.\n",
      "F1 score for test set: 0.8000.\n",
      "\n",
      "Training a SVC using a training set size of 300. . .\n",
      "Trained model in 0.0055 seconds\n",
      "Made predictions in 0.0044 seconds.\n",
      "F1 score for training set: 0.8712.\n",
      "Made predictions in 0.0015 seconds.\n",
      "F1 score for test set: 0.8027.\n",
      "\n",
      "Training a KNeighborsClassifier using a training set size of 100. . .\n",
      "Trained model in 0.0004 seconds\n",
      "Made predictions in 0.0015 seconds.\n",
      "F1 score for training set: 0.8028.\n",
      "Made predictions in 0.0010 seconds.\n",
      "F1 score for test set: 0.7385.\n",
      "\n",
      "Training a KNeighborsClassifier using a training set size of 200. . .\n",
      "Trained model in 0.0005 seconds\n",
      "Made predictions in 0.0024 seconds.\n",
      "F1 score for training set: 0.8380.\n",
      "Made predictions in 0.0019 seconds.\n",
      "F1 score for test set: 0.7879.\n",
      "\n",
      "Training a KNeighborsClassifier using a training set size of 300. . .\n",
      "Trained model in 0.0009 seconds\n",
      "Made predictions in 0.0073 seconds.\n",
      "F1 score for training set: 0.8630.\n",
      "Made predictions in 0.0020 seconds.\n",
      "F1 score for test set: 0.8321.\n",
      "\n"
     ]
    }
   ],
   "source": [
    "# TODO: Import the three supervised learning models from sklearn\n",
    "from sklearn.tree import DecisionTreeClassifier\n",
    "from sklearn.svm import SVC\n",
    "from sklearn.neighbors import KNeighborsClassifier\n",
    "\n",
    "\n",
    "# TODO: Initialize the three models\n",
    "clf_DTC = DecisionTreeClassifier(random_state=15, max_depth=3)\n",
    "clf_SVM = SVC(random_state=15)\n",
    "clf_KNN = KNeighborsClassifier()\n",
    "\n",
    "# TODO: Set up the training set sizes\n",
    "for clf in [DecisionTreeClassifier(random_state=15,max_depth=3), SVC(), KNeighborsClassifier()]:\n",
    "    for size in [100, 200, 300]:\n",
    "        train_predict(clf, X_train[:size], y_train[:size], X_test, y_test)"
   ]
  },
  {
   "cell_type": "markdown",
   "metadata": {},
   "source": [
    "### Tabular Results\n",
    "Edit the cell below to see how a table can be designed in [Markdown](https://github.com/adam-p/markdown-here/wiki/Markdown-Cheatsheet#tables). You can record your results from above in the tables provided."
   ]
  },
  {
   "cell_type": "markdown",
   "metadata": {},
   "source": [
    "** Classifer 1 - Decision Tree Classifier (max_depth=3)**  \n",
    "\n",
    "| Training Set Size | Training Time | Prediction Time (test) | F1 Score (train) | F1 Score (test) |\n",
    "| :---------------: | :---------------------: | :--------------------: | :--------------: | :-------------: |\n",
    "| 100               |            0.0013       |         0.0003         |    0.8361        |    0.5926       |\n",
    "| 200               |            0.0009       |         0.0002         |    0.8571       |    0.7917       |\n",
    "| 300               |            0.0012       |         0.0003         |     0.8392       |    0.7971       |\n",
    "\n",
    "** Classifer 2 - Support Vector Machine**  \n",
    "\n",
    "| Training Set Size | Training Time | Prediction Time (test) | F1 Score (train) | F1 Score (test) |\n",
    "| :---------------: | :---------------------: | :--------------------: | :--------------: | :-------------: |\n",
    "| 100               |        0.0008       |        0.0006           |   0.8904         |       0.7826     |\n",
    "| 200               |     0.0020             |     0.0010             |     0.8851       |    0.8000      |\n",
    "| 300               |      0.0055              |   0.0015                |   0.8712        |     0.8027    |\n",
    "\n",
    "** Classifer 3 - k-Nearest Neighbor**  \n",
    "\n",
    "| Training Set Size | Training Time | Prediction Time (test) | F1 Score (train) | F1 Score (test) |\n",
    "| :---------------: | :---------------------: | :--------------------: | :--------------: | :-------------: |\n",
    "| 100               |     0.0004        |          0.0010        |     0.8028       |    0.7385      |\n",
    "| 200               |      0.0005               |   0.0019       |     0.8380       |   0.7879       |\n",
    "| 300               |       0.0009           |      0.0020        |     0.8630       |     0.8321    |"
   ]
  },
  {
   "cell_type": "markdown",
   "metadata": {},
   "source": [
    "## Choosing the Best Model\n",
    "In this final section, you will choose from the three supervised learning models the *best* model to use on the student data. You will then perform a grid search optimization for the model over the entire training set (`X_train` and `y_train`) by tuning at least one parameter to improve upon the untuned model's F<sub>1</sub> score. "
   ]
  },
  {
   "cell_type": "markdown",
   "metadata": {},
   "source": [
    "### Question 3 - Choosing the Best Model\n",
    "*Based on the experiments you performed earlier, in one to two paragraphs, explain to the board of supervisors what single model you chose as the best model. Which model is generally the most appropriate based on the available data, limited resources, cost, and performance?*"
   ]
  },
  {
   "cell_type": "markdown",
   "metadata": {},
   "source": [
    "**Answer: **\n",
    "In this situation I would recommend using the decision tree model. In my experiments with three quite different models (Decision Tree, K-Nearest-Neighbors and Support Vector machines) there was no clear winner on accuracy to be determined. All models show accuracy scores of around 80%. However, the decision tree model is clearly the fastest out of the three considering both training and prediction time. In terms of accuracy the model performs in line with the other models (note that we had already restricted the `'max_depth`' to prevent overfitting).\n",
    "\n",
    "This choice of model is supported by the fact that it is used in similar situations like loan approval/credit risk analysis. Note that because of the comparable simplicity of the model changing data or retraining the algorithm (e.g. year by year) is easy.\n",
    "\n",
    "Generally, when looking for the optimal algorithm to use one has to balance accuracy and performance/speed. In cases where accuracy is paramount but prediction time is less important, one would choose more complex, computationally intensive algorithms and tailor them in detail (e.g. by using extensive grid search or the like). However, when different algorithms do not show much deviation in terms of accuracy, then choosing the fastest one is certainly sensible."
   ]
  },
  {
   "cell_type": "markdown",
   "metadata": {},
   "source": [
    "### Question 4 - Model in Layman's Terms\n",
    "*In one to two paragraphs, explain to the board of directors in layman's terms how the final model chosen is supposed to work. Be sure that you are describing the major qualities of the model, such as how the model is trained and how the model makes a prediction. Avoid using advanced mathematical or technical jargon, such as describing equations or discussing the algorithm implementation.*"
   ]
  },
  {
   "cell_type": "markdown",
   "metadata": {},
   "source": [
    "**Answer: **\n",
    "The decision tree algorithm is very intuitive and can be outlined with a simple example. Suppose we would like to come up with a model to decide whether or not to buy a pair of pants. The first question might be what the price is in a certain interval (say 60 - 100 \\$\n",
    "since we are looking for good quality but only have a maximum budget of 100 \\$) and the second question whether they fit or not. So in a shop we could potentially find a pair of pants at 70 \\$, then try them on, and if they fit buy them straight away.\n",
    "\n",
    "In more precise terms the decision tree model works as follows. We are given a training data (a group of previous students) and a list of features, or information points on them. The algorithm now looks at one information point, say father's education. No it divides the groups up such that one group (e.g. father's education class < 4) is clearly more likely to fail than the other (e.g. father's education > level 3). In the next step it looks, for example, at the group of students with father's education < 3 and finds another criterion to help separate the better students from the worse, say access to internet. It may turn out that students with access to internet are more successful since they use the internet as an information source.\n",
    "\n",
    "This process goes on until a sufficiently detailed segmentation of students along the different information points is achieved. Now to predict whether a student is likely to fail, the algorithm just needs to follow the same logic as in training to determine which group a student belongs to."
   ]
  },
  {
   "cell_type": "markdown",
   "metadata": {},
   "source": [
    "### Implementation: Model Tuning\n",
    "Fine tune the chosen model. Use grid search (`GridSearchCV`) with at least one important parameter tuned with at least 3 different values. You will need to use the entire training set for this. In the code cell below, you will need to implement the following:\n",
    "- Import [`sklearn.grid_search.gridSearchCV`](http://scikit-learn.org/stable/modules/generated/sklearn.grid_search.GridSearchCV.html) and [`sklearn.metrics.make_scorer`](http://scikit-learn.org/stable/modules/generated/sklearn.metrics.make_scorer.html).\n",
    "- Create a dictionary of parameters you wish to tune for the chosen model.\n",
    " - Example: `parameters = {'parameter' : [list of values]}`.\n",
    "- Initialize the classifier you've chosen and store it in `clf`.\n",
    "- Create the F<sub>1</sub> scoring function using `make_scorer` and store it in `f1_scorer`.\n",
    " - Set the `pos_label` parameter to the correct value!\n",
    "- Perform grid search on the classifier `clf` using `f1_scorer` as the scoring method, and store it in `grid_obj`.\n",
    "- Fit the grid search object to the training data (`X_train`, `y_train`), and store it in `grid_obj`."
   ]
  },
  {
   "cell_type": "code",
   "execution_count": 258,
   "metadata": {
    "collapsed": false
   },
   "outputs": [
    {
     "name": "stdout",
     "output_type": "stream",
     "text": [
      "The optimized parameter values are as follows:\n",
      "{'n_neighbors': 13, 'weights': 'uniform', 'p': 1} \n",
      "\n",
      "Made predictions in 0.0074 seconds.\n",
      "Tuned model has a training F1 score of 0.8305.\n",
      "Made predictions in 0.0022 seconds.\n",
      "Tuned model has a testing F1 score of 0.8108.\n"
     ]
    }
   ],
   "source": [
    "# TODO: Import 'GridSearchCV' and 'make_scorer'\n",
    "from sklearn.metrics import make_scorer, f1_score\n",
    "from sklearn.grid_search import GridSearchCV\n",
    "\n",
    "# TODO: Create the parameters list you wish to tune\n",
    "parameters = {'n_neighbors': range(1,15), 'weights': ('uniform','distance'), 'p' : [1,2,3]}\n",
    "\n",
    "#cv_sets = ShuffleSplit(X_all.shape[0], n_iter = 10, train_size = 300, random_state = 0)\n",
    "\n",
    "# TODO: Initialize the classifier\n",
    "clf = KNeighborsClassifier()\n",
    "# TODO: Make an f1 scoring function using 'make_scorer' \n",
    "f1_scorer = make_scorer(f1_score, pos_label='yes')\n",
    "\n",
    "# TODO: Perform grid search on the classifier using the f1_scorer as the scoring method\n",
    "grid_obj = GridSearchCV(clf, parameters, scoring=f1_scorer)\n",
    "\n",
    "# TODO: Fit the grid search object to the training data and find the optimal parameters\n",
    "grid_obj = grid_obj.fit(X_train,y_train)\n",
    "\n",
    "# Get the estimator\n",
    "clf = grid_obj.best_estimator_\n",
    "\n",
    "print \"The optimized parameter values are as follows:\"\n",
    "print grid_obj.best_params_, \"\\n\"\n",
    "# Report the final F1 score for training and testing after parameter tuning\n",
    "\n",
    "print \"Tuned model has a training F1 score of {:.4f}.\".format(predict_labels(clf, X_train, y_train))\n",
    "print \"Tuned model has a testing F1 score of {:.4f}.\".format(predict_labels(clf, X_test, y_test))"
   ]
  },
  {
   "cell_type": "markdown",
   "metadata": {},
   "source": [
    "### Question 5 - Final F<sub>1</sub> Score\n",
    "*What is the final model's F<sub>1</sub> score for training and testing? How does that score compare to the untuned model?*"
   ]
  },
  {
   "cell_type": "markdown",
   "metadata": {},
   "source": [
    "**Answer: **\n",
    "The final score of the optimized model on the training data is 0.8357 and on the testing data: 0.8029, compared with 0.8392, respectively, 0.7971 for the previously used decision tree model (on 300 training points). So, all in all the parameter optimization with grid search did not yield a significant improvement in accuracy.\n",
    "\n",
    "*Note 1:* Here we did not use k-fold cross validation in the grid search algorithm. So there is some uncertainty in the individual scores and therefore possibly also in the optimized parameter set.\n",
    "\n",
    "*Note 2:* Also for the other models (SVM and KNN) optmizing the parameters did not yield much improvement in terms of accuracy. This leads me to the conclusion that around 80 % accuracy is what \"off-the-shelf\" models can achieve here"
   ]
  },
  {
   "cell_type": "markdown",
   "metadata": {},
   "source": [
    "> **Note**: Once you have completed all of the code implementations and successfully answered each question above, you may finalize your work by exporting the iPython Notebook as an HTML document. You can do this by using the menu above and navigating to  \n",
    "**File -> Download as -> HTML (.html)**. Include the finished document along with this notebook as your submission."
   ]
  }
 ],
 "metadata": {
  "kernelspec": {
   "display_name": "Python 2",
   "language": "python",
   "name": "python2"
  },
  "language_info": {
   "codemirror_mode": {
    "name": "ipython",
    "version": 2
   },
   "file_extension": ".py",
   "mimetype": "text/x-python",
   "name": "python",
   "nbconvert_exporter": "python",
   "pygments_lexer": "ipython2",
   "version": "2.7.10"
  }
 },
 "nbformat": 4,
 "nbformat_minor": 0
}
