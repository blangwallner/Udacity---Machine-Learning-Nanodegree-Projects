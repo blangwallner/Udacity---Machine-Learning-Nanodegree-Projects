{
 "cells": [
  {
   "cell_type": "code",
   "execution_count": 1,
   "metadata": {
    "collapsed": false
   },
   "outputs": [
    {
     "data": {
      "text/plain": [
       "0.3"
      ]
     },
     "execution_count": 1,
     "metadata": {},
     "output_type": "execute_result"
    }
   ],
   "source": [
    ".6*.4+.3*.2"
   ]
  },
  {
   "cell_type": "code",
   "execution_count": 3,
   "metadata": {
    "collapsed": false
   },
   "outputs": [
    {
     "data": {
      "text/plain": [
       "0.4"
      ]
     },
     "execution_count": 3,
     "metadata": {},
     "output_type": "execute_result"
    }
   ],
   "source": [
    ".4*.4+.3*.8"
   ]
  },
  {
   "cell_type": "code",
   "execution_count": null,
   "metadata": {
    "collapsed": true
   },
   "outputs": [],
   "source": [
    "raining a KNeighborsClassifier using a training set size of 100. . .\n",
    "Trained model in 0.0004 seconds\n",
    "Made predictions in 0.0015 seconds.\n",
    "F1 score for training set: 0.8028.\n",
    "Made predictions in 0.0010 seconds.\n",
    "F1 score for test set: 0.7385.\n",
    "\n",
    "Training a KNeighborsClassifier using a training set size of 200. . .\n",
    "Trained model in 0.0005 seconds\n",
    "Made predictions in 0.0024 seconds.\n",
    "F1 score for training set: 0.8380.\n",
    "Made predictions in 0.0019 seconds.\n",
    "F1 score for test set: 0.7879.\n",
    "\n",
    "Training a KNeighborsClassifier using a training set size of 300. . .\n",
    "Trained model in 0.0009 seconds\n",
    "Made predictions in 0.0073 seconds.\n",
    "F1 score for training set: 0.8630.\n",
    "Made predictions in 0.0020 seconds.\n",
    "F1 score for test set: 0.8321."
   ]
  }
 ],
 "metadata": {
  "kernelspec": {
   "display_name": "Python 2",
   "language": "python",
   "name": "python2"
  },
  "language_info": {
   "codemirror_mode": {
    "name": "ipython",
    "version": 2
   },
   "file_extension": ".py",
   "mimetype": "text/x-python",
   "name": "python",
   "nbconvert_exporter": "python",
   "pygments_lexer": "ipython2",
   "version": "2.7.10"
  }
 },
 "nbformat": 4,
 "nbformat_minor": 0
}
